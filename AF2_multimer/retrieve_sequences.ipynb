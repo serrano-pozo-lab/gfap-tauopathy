{
 "cells": [
  {
   "cell_type": "markdown",
   "metadata": {},
   "source": [
    "# Retrieve UniProt Sequences\n",
    "\n",
    "### Ayush Noori\n",
    "\n",
    "Import required libraries."
   ]
  },
  {
   "cell_type": "code",
   "execution_count": 3,
   "metadata": {},
   "outputs": [],
   "source": [
    "# Standard imports\n",
    "import numpy as np\n",
    "import pandas as pd\n",
    "import matplotlib.pyplot as plt\n",
    "\n",
    "# Directory management\n",
    "from pathlib import Path\n",
    "import os\n",
    "\n",
    "# Get sequence data\n",
    "from getSequence import getseq\n",
    "\n",
    "# Get current directory\n",
    "cwd = Path(os.getcwd())\n",
    "save_dir = cwd.parents[1] / 'Data' / 'AF2_sequences'"
   ]
  },
  {
   "cell_type": "markdown",
   "metadata": {},
   "source": [
    "Get list of UniProt IDs."
   ]
  },
  {
   "cell_type": "code",
   "execution_count": 4,
   "metadata": {},
   "outputs": [],
   "source": [
    "# Dictionary of UniProt IDs\n",
    "GFAP_id = 'P14136'\n",
    "VIM_id = 'P08670'\n",
    "\n",
    "experimental_conditions = {\n",
    "    'GFAP-RAB10': (GFAP_id, 'P61026'),\n",
    "    'GFAP-RAB7A': (GFAP_id, 'P51149'),\n",
    "    'VIM-RAB10': (VIM_id, 'P61026'),\n",
    "    'GFAP-GFAP-GFAP-GFAP': (GFAP_id, GFAP_id, GFAP_id, GFAP_id),\n",
    "    'VIM-VIM-VIM-VIM': (VIM_id, VIM_id, VIM_id, VIM_id),\n",
    "    'GFAP-GFAP-VIM-VIM': (GFAP_id, GFAP_id, VIM_id, VIM_id)\n",
    "}\n",
    "\n",
    "positive_controls = {\n",
    "    'GFAP-GFAP': (GFAP_id, GFAP_id),\n",
    "    'GFAP-VIM': (GFAP_id, VIM_id),\n",
    "    'GFAP-CRYAB': (GFAP_id, 'P02511'),\n",
    "    'GFAP-HSPB1': (GFAP_id, 'P04792'),\n",
    "    'GFAP-LAMP2': (GFAP_id, 'P13473'),\n",
    "    'VIM-RAB5A': (VIM_id, 'P20339'),\n",
    "}\n",
    "\n",
    "negative_controls = {\n",
    "    'GFAP-OLIG2': (GFAP_id, 'Q13516'),\n",
    "    'GFAP-AIF1': (GFAP_id, 'P55008'),\n",
    "    'GFAP-RBFOX3': (GFAP_id, 'A6NFN3'),\n",
    "}\n",
    "\n",
    "# Label experimental, positive, and negative controls\n",
    "experimental_conditions = {k: (v, 'exp') for k, v in experimental_conditions.items()}\n",
    "positive_controls = {k: (v, 'pos') for k, v in positive_controls.items()}\n",
    "negative_controls = {k: (v, 'neg') for k, v in negative_controls.items()}\n",
    "\n",
    "# Combine all dictionaries\n",
    "af2_experiments = {**experimental_conditions, **positive_controls, **negative_controls}"
   ]
  },
  {
   "cell_type": "markdown",
   "metadata": {},
   "source": [
    "Retrieve sequences and write to file."
   ]
  },
  {
   "cell_type": "code",
   "execution_count": 5,
   "metadata": {},
   "outputs": [],
   "source": [
    "# Iterate over controls\n",
    "for comparison, (uniprot_ids, label) in af2_experiments.items():\n",
    "    \n",
    "    # Save sequence\n",
    "    with open(save_dir / f'{comparison}-{label}.fasta', 'w') as f:\n",
    "\n",
    "        # Iterate over UniProt IDs\n",
    "        for uniprot_id in uniprot_ids:\n",
    "\n",
    "            # Get sequence\n",
    "            seq = getseq(uniprot_id, uniprot_id=True)\n",
    "\n",
    "            # Write header to file\n",
    "            f.write(f'>{seq[0]}\\n')\n",
    "\n",
    "            # Divide sequence into chunks of 60 characters\n",
    "            for i in range(0, len(seq[1]), 60):\n",
    "                f.write(f'{seq[1][i:i+60]}\\n')"
   ]
  },
  {
   "cell_type": "markdown",
   "metadata": {},
   "source": [
    "# Visualize PDB Structures"
   ]
  }
 ],
 "metadata": {
  "kernelspec": {
   "display_name": "neuroKG",
   "language": "python",
   "name": "python3"
  },
  "language_info": {
   "codemirror_mode": {
    "name": "ipython",
    "version": 3
   },
   "file_extension": ".py",
   "mimetype": "text/x-python",
   "name": "python",
   "nbconvert_exporter": "python",
   "pygments_lexer": "ipython3",
   "version": "3.10.9"
  }
 },
 "nbformat": 4,
 "nbformat_minor": 2
}
